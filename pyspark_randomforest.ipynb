{
  "nbformat": 4,
  "nbformat_minor": 0,
  "metadata": {
    "colab": {
      "provenance": [],
      "gpuType": "V28"
    },
    "kernelspec": {
      "name": "python3",
      "display_name": "Python 3"
    },
    "language_info": {
      "name": "python"
    },
    "accelerator": "TPU"
  },
  "cells": [
    {
      "cell_type": "code",
      "source": [
        "!pip install pyspark"
      ],
      "metadata": {
        "colab": {
          "base_uri": "https://localhost:8080/"
        },
        "id": "1LQS92DrbjB_",
        "outputId": "ce34be62-3f4e-472c-a4fc-67a4cca69b74"
      },
      "execution_count": 1,
      "outputs": [
        {
          "output_type": "stream",
          "name": "stdout",
          "text": [
            "Requirement already satisfied: pyspark in /usr/local/lib/python3.10/dist-packages (3.5.1)\n",
            "Requirement already satisfied: py4j==0.10.9.7 in /usr/local/lib/python3.10/dist-packages (from pyspark) (0.10.9.7)\n"
          ]
        }
      ]
    },
    {
      "cell_type": "code",
      "source": [
        "from pyspark.sql import SparkSession\n",
        "from pyspark.sql.functions import *\n",
        "from pyspark.sql.functions import col\n",
        "from pyspark.ml.feature import VectorAssembler\n",
        "from pyspark.ml.classification import RandomForestClassifier\n",
        "from pyspark.ml.evaluation import ClusteringEvaluator\n",
        "from pyspark.ml.evaluation import BinaryClassificationEvaluator\n",
        "from pyspark.ml.feature import Imputer\n",
        "from pyspark.ml.tuning import ParamGridBuilder, CrossValidator"
      ],
      "metadata": {
        "id": "TdBCi5PfSLip"
      },
      "execution_count": 80,
      "outputs": []
    },
    {
      "cell_type": "code",
      "source": [
        "spark = SparkSession.builder.appName(\"mlbuilder\").getOrCreate()"
      ],
      "metadata": {
        "id": "HFWdJwaeYL7a"
      },
      "execution_count": 3,
      "outputs": []
    },
    {
      "cell_type": "code",
      "source": [
        "training_data = spark.read.csv('cs-training.csv',header=True,inferSchema=True)\n",
        "test_data = spark.read.csv('cs-test.csv',header=True,inferSchema=True)"
      ],
      "metadata": {
        "id": "MU0neOcHYQS-"
      },
      "execution_count": 4,
      "outputs": []
    },
    {
      "cell_type": "code",
      "source": [
        "training_data = training_data.drop('Unnamed: 0')\n",
        "test_data = test_data.drop('Unnamed: 0')"
      ],
      "metadata": {
        "id": "WbPAytQSa_0F"
      },
      "execution_count": 5,
      "outputs": []
    },
    {
      "cell_type": "code",
      "source": [
        "test_data.printSchema()"
      ],
      "metadata": {
        "colab": {
          "base_uri": "https://localhost:8080/"
        },
        "id": "-3en-bOybIcj",
        "outputId": "181f5850-25f6-4ecf-ca86-dd70d2b08159"
      },
      "execution_count": 6,
      "outputs": [
        {
          "output_type": "stream",
          "name": "stdout",
          "text": [
            "root\n",
            " |-- _c0: integer (nullable = true)\n",
            " |-- SeriousDlqin2yrs: string (nullable = true)\n",
            " |-- RevolvingUtilizationOfUnsecuredLines: double (nullable = true)\n",
            " |-- age: integer (nullable = true)\n",
            " |-- NumberOfTime30-59DaysPastDueNotWorse: integer (nullable = true)\n",
            " |-- DebtRatio: double (nullable = true)\n",
            " |-- MonthlyIncome: string (nullable = true)\n",
            " |-- NumberOfOpenCreditLinesAndLoans: integer (nullable = true)\n",
            " |-- NumberOfTimes90DaysLate: integer (nullable = true)\n",
            " |-- NumberRealEstateLoansOrLines: integer (nullable = true)\n",
            " |-- NumberOfTime60-89DaysPastDueNotWorse: integer (nullable = true)\n",
            " |-- NumberOfDependents: string (nullable = true)\n",
            "\n"
          ]
        }
      ]
    },
    {
      "cell_type": "code",
      "source": [
        "string_to_number = ['MonthlyIncome','NumberOfDependents']"
      ],
      "metadata": {
        "id": "YB7vCT5PbR8I"
      },
      "execution_count": 7,
      "outputs": []
    },
    {
      "cell_type": "code",
      "source": [
        "for col_name in string_to_number:\n",
        "    training_data = training_data.withColumn(col_name,col(col_name).cast('int'))\n",
        "    test_data = test_data.withColumn(col_name,col(col_name).cast('int'))"
      ],
      "metadata": {
        "id": "7lW3yssababq"
      },
      "execution_count": 8,
      "outputs": []
    },
    {
      "cell_type": "code",
      "source": [
        "imputer = Imputer(inputCols=['MonthlyIncome', 'NumberOfDependents'], outputCols=['MonthlyIncome', 'NumberOfDependents'])\n",
        "training_data = imputer.fit(training_data).transform(training_data)\n",
        "test_data = imputer.fit(test_data).transform(test_data)"
      ],
      "metadata": {
        "id": "_P9wKT5stybH"
      },
      "execution_count": 9,
      "outputs": []
    },
    {
      "cell_type": "code",
      "source": [
        "training_data.show()"
      ],
      "metadata": {
        "colab": {
          "base_uri": "https://localhost:8080/"
        },
        "id": "ZzYYJy8ufHmc",
        "outputId": "155f5b18-0a3c-40b6-ac06-e02fce7ec552"
      },
      "execution_count": 10,
      "outputs": [
        {
          "output_type": "stream",
          "name": "stdout",
          "text": [
            "+---+----------------+------------------------------------+---+------------------------------------+-----------+-------------+-------------------------------+-----------------------+----------------------------+------------------------------------+------------------+\n",
            "|_c0|SeriousDlqin2yrs|RevolvingUtilizationOfUnsecuredLines|age|NumberOfTime30-59DaysPastDueNotWorse|  DebtRatio|MonthlyIncome|NumberOfOpenCreditLinesAndLoans|NumberOfTimes90DaysLate|NumberRealEstateLoansOrLines|NumberOfTime60-89DaysPastDueNotWorse|NumberOfDependents|\n",
            "+---+----------------+------------------------------------+---+------------------------------------+-----------+-------------+-------------------------------+-----------------------+----------------------------+------------------------------------+------------------+\n",
            "|  1|               1|                         0.766126609| 45|                                   2|0.802982129|         9120|                             13|                      0|                           6|                                   0|                 2|\n",
            "|  2|               0|                         0.957151019| 40|                                   0|0.121876201|         2600|                              4|                      0|                           0|                                   0|                 1|\n",
            "|  3|               0|                          0.65818014| 38|                                   1|0.085113375|         3042|                              2|                      1|                           0|                                   0|                 0|\n",
            "|  4|               0|                         0.233809776| 30|                                   0|0.036049682|         3300|                              5|                      0|                           0|                                   0|                 0|\n",
            "|  5|               0|                           0.9072394| 49|                                   1|0.024925695|        63588|                              7|                      0|                           1|                                   0|                 0|\n",
            "|  6|               0|                         0.213178682| 74|                                   0|0.375606969|         3500|                              3|                      0|                           1|                                   0|                 1|\n",
            "|  7|               0|                         0.305682465| 57|                                   0|     5710.0|         6670|                              8|                      0|                           3|                                   0|                 0|\n",
            "|  8|               0|                         0.754463648| 39|                                   0|0.209940017|         3500|                              8|                      0|                           0|                                   0|                 0|\n",
            "|  9|               0|                         0.116950644| 27|                                   0|       46.0|         6670|                              2|                      0|                           0|                                   0|                 0|\n",
            "| 10|               0|                         0.189169052| 57|                                   0|0.606290901|        23684|                              9|                      0|                           4|                                   0|                 2|\n",
            "| 11|               0|                         0.644225962| 30|                                   0| 0.30947621|         2500|                              5|                      0|                           0|                                   0|                 0|\n",
            "| 12|               0|                          0.01879812| 51|                                   0| 0.53152876|         6501|                              7|                      0|                           2|                                   0|                 2|\n",
            "| 13|               0|                         0.010351857| 46|                                   0|0.298354075|        12454|                             13|                      0|                           2|                                   0|                 2|\n",
            "| 14|               1|                         0.964672555| 40|                                   3|0.382964747|        13700|                              9|                      3|                           1|                                   1|                 2|\n",
            "| 15|               0|                         0.019656581| 76|                                   0|      477.0|            0|                              6|                      0|                           1|                                   0|                 0|\n",
            "| 16|               0|                         0.548458062| 64|                                   0|0.209891754|        11362|                              7|                      0|                           1|                                   0|                 2|\n",
            "| 17|               0|                         0.061086118| 78|                                   0|     2058.0|         6670|                             10|                      0|                           2|                                   0|                 0|\n",
            "| 18|               0|                         0.166284079| 53|                                   0| 0.18827406|         8800|                              7|                      0|                           0|                                   0|                 0|\n",
            "| 19|               0|                         0.221812771| 43|                                   0|0.527887839|         3280|                              7|                      0|                           1|                                   0|                 2|\n",
            "| 20|               0|                         0.602794411| 25|                                   0|0.065868263|          333|                              2|                      0|                           0|                                   0|                 0|\n",
            "+---+----------------+------------------------------------+---+------------------------------------+-----------+-------------+-------------------------------+-----------------------+----------------------------+------------------------------------+------------------+\n",
            "only showing top 20 rows\n",
            "\n"
          ]
        }
      ]
    },
    {
      "cell_type": "code",
      "source": [
        "minority_class = training_data.filter(training_data.SeriousDlqin2yrs == 1)\n",
        "majority_class = training_data.filter(training_data.SeriousDlqin2yrs == 0)"
      ],
      "metadata": {
        "id": "6ApJHoWvbga7"
      },
      "execution_count": 11,
      "outputs": []
    },
    {
      "cell_type": "code",
      "source": [
        "print('minority:',minority_class.count(),'majority:',majority_class.count())"
      ],
      "metadata": {
        "colab": {
          "base_uri": "https://localhost:8080/"
        },
        "id": "WoYLvcIee31R",
        "outputId": "3731013c-3830-409f-c4ca-45054e73b22e"
      },
      "execution_count": 33,
      "outputs": [
        {
          "output_type": "stream",
          "name": "stdout",
          "text": [
            "minority: 10026 majority: 139974\n"
          ]
        }
      ]
    },
    {
      "cell_type": "code",
      "source": [
        "majority_class_downsampled = majority_class.sample(withReplacement=False, fraction=float(minority_class.count()) / float(majority_class.count()))\n"
      ],
      "metadata": {
        "id": "7Bc73f49bpfW"
      },
      "execution_count": 13,
      "outputs": []
    },
    {
      "cell_type": "code",
      "source": [
        "balanced_training_data = minority_class.union(majority_class_downsampled)\n"
      ],
      "metadata": {
        "id": "2YhhpMNUb8NQ"
      },
      "execution_count": 14,
      "outputs": []
    },
    {
      "cell_type": "code",
      "source": [
        "balanced_training_data.printSchema()"
      ],
      "metadata": {
        "colab": {
          "base_uri": "https://localhost:8080/"
        },
        "id": "ar2orK28cBbg",
        "outputId": "01b9fe8a-ffcd-4395-c875-d72594b87f2c"
      },
      "execution_count": 15,
      "outputs": [
        {
          "output_type": "stream",
          "name": "stdout",
          "text": [
            "root\n",
            " |-- _c0: integer (nullable = true)\n",
            " |-- SeriousDlqin2yrs: integer (nullable = true)\n",
            " |-- RevolvingUtilizationOfUnsecuredLines: double (nullable = true)\n",
            " |-- age: integer (nullable = true)\n",
            " |-- NumberOfTime30-59DaysPastDueNotWorse: integer (nullable = true)\n",
            " |-- DebtRatio: double (nullable = true)\n",
            " |-- MonthlyIncome: integer (nullable = true)\n",
            " |-- NumberOfOpenCreditLinesAndLoans: integer (nullable = true)\n",
            " |-- NumberOfTimes90DaysLate: integer (nullable = true)\n",
            " |-- NumberRealEstateLoansOrLines: integer (nullable = true)\n",
            " |-- NumberOfTime60-89DaysPastDueNotWorse: integer (nullable = true)\n",
            " |-- NumberOfDependents: integer (nullable = true)\n",
            "\n"
          ]
        }
      ]
    },
    {
      "cell_type": "code",
      "source": [
        "features_columns = ['RevolvingUtilizationOfUnsecuredLines','age','NumberOfTime30-59DaysPastDueNotWorse','DebtRatio','MonthlyIncome','NumberOfOpenCreditLinesAndLoans',\n",
        "                    'NumberOfTimes90DaysLate','NumberRealEstateLoansOrLines','NumberOfTime60-89DaysPastDueNotWorse','NumberOfDependents']"
      ],
      "metadata": {
        "id": "NacnzutlcHGX"
      },
      "execution_count": 16,
      "outputs": []
    },
    {
      "cell_type": "code",
      "source": [
        "asserter = VectorAssembler(inputCols=features_columns,outputCol='features',handleInvalid='skip')"
      ],
      "metadata": {
        "id": "_Jn7R7wjc7pL"
      },
      "execution_count": 17,
      "outputs": []
    },
    {
      "cell_type": "code",
      "source": [
        "balanced_training_data= asserter.transform(balanced_training_data)"
      ],
      "metadata": {
        "id": "kvhvSYXwcstZ"
      },
      "execution_count": 18,
      "outputs": []
    },
    {
      "cell_type": "code",
      "source": [
        "balanced_training_data.printSchema()"
      ],
      "metadata": {
        "colab": {
          "base_uri": "https://localhost:8080/"
        },
        "id": "L0VPLY7idH4j",
        "outputId": "43d66e99-175b-4d67-c264-98162ddbd7d0"
      },
      "execution_count": 19,
      "outputs": [
        {
          "output_type": "stream",
          "name": "stdout",
          "text": [
            "root\n",
            " |-- _c0: integer (nullable = true)\n",
            " |-- SeriousDlqin2yrs: integer (nullable = true)\n",
            " |-- RevolvingUtilizationOfUnsecuredLines: double (nullable = true)\n",
            " |-- age: integer (nullable = true)\n",
            " |-- NumberOfTime30-59DaysPastDueNotWorse: integer (nullable = true)\n",
            " |-- DebtRatio: double (nullable = true)\n",
            " |-- MonthlyIncome: integer (nullable = true)\n",
            " |-- NumberOfOpenCreditLinesAndLoans: integer (nullable = true)\n",
            " |-- NumberOfTimes90DaysLate: integer (nullable = true)\n",
            " |-- NumberRealEstateLoansOrLines: integer (nullable = true)\n",
            " |-- NumberOfTime60-89DaysPastDueNotWorse: integer (nullable = true)\n",
            " |-- NumberOfDependents: integer (nullable = true)\n",
            " |-- features: vector (nullable = true)\n",
            "\n"
          ]
        }
      ]
    },
    {
      "cell_type": "code",
      "source": [
        "test = asserter.transform(test_data)"
      ],
      "metadata": {
        "id": "XsNT-q_UdK7n"
      },
      "execution_count": 20,
      "outputs": []
    },
    {
      "cell_type": "code",
      "source": [
        "selected_train = balanced_training_data.select('features','SeriousDlqin2yrs')\n",
        "selected_test = selected_train.select('features','SeriousDlqin2yrs')"
      ],
      "metadata": {
        "id": "CAOToTJHdUZ1"
      },
      "execution_count": 21,
      "outputs": []
    },
    {
      "cell_type": "code",
      "source": [
        "rf = RandomForestClassifier(labelCol='SeriousDlqin2yrs',featuresCol='features',numTrees=100,maxDepth=7)"
      ],
      "metadata": {
        "id": "UT__pVRVdkQD"
      },
      "execution_count": 22,
      "outputs": []
    },
    {
      "cell_type": "code",
      "source": [
        "model = rf.fit(selected_train)"
      ],
      "metadata": {
        "id": "naYq2gZxd3_k"
      },
      "execution_count": 23,
      "outputs": []
    },
    {
      "cell_type": "code",
      "source": [
        "predictions = model.transform(selected_test)"
      ],
      "metadata": {
        "id": "66Cnt7DMqNm5"
      },
      "execution_count": 24,
      "outputs": []
    },
    {
      "cell_type": "code",
      "source": [
        "predictions.show()"
      ],
      "metadata": {
        "colab": {
          "base_uri": "https://localhost:8080/"
        },
        "id": "qk02pTGhqYwM",
        "outputId": "7b349ac1-6bf4-4701-c2ed-2fd60a1cb896",
        "collapsed": true
      },
      "execution_count": 25,
      "outputs": [
        {
          "output_type": "stream",
          "name": "stdout",
          "text": [
            "+--------------------+----------------+--------------------+--------------------+----------+\n",
            "|            features|SeriousDlqin2yrs|       rawPrediction|         probability|prediction|\n",
            "+--------------------+----------------+--------------------+--------------------+----------+\n",
            "|[0.766126609,45.0...|               1|[19.3875208507234...|[0.19387520850723...|       1.0|\n",
            "|[0.964672555,40.0...|               1|[5.71758149077174...|[0.05717581490771...|       1.0|\n",
            "|[0.025655677,38.0...|               1|[82.3508737872690...|[0.82350873787269...|       0.0|\n",
            "|[0.392248482,50.0...|               1|[64.9198257343337...|[0.64919825734333...|       0.0|\n",
            "|[0.728150491,31.0...|               1|[43.7152144463944...|[0.43715214446394...|       1.0|\n",
            "|[0.13306279,49.0,...|               1|[55.9085110909077...|[0.55908511090907...|       0.0|\n",
            "|[0.734477501,45.0...|               1|[42.5822006038673...|[0.42582200603867...|       1.0|\n",
            "|[1.046279103,47.0...|               1|[21.6405757326391...|[0.21640575732639...|       1.0|\n",
            "|[0.946963874,35.0...|               1|[39.5573521856597...|[0.39557352185659...|       1.0|\n",
            "|[0.085338293,51.0...|               1|[81.6035366386340...|[0.81603536638634...|       0.0|\n",
            "|(10,[1,3,4,5,8],[...|               1|[32.5523364070162...|[0.32552336407016...|       1.0|\n",
            "|[0.786485406,44.0...|               1|[7.84918969775137...|[0.07849189697751...|       1.0|\n",
            "|[0.025892469,38.0...|               1|[80.4809817406152...|[0.80480981740615...|       0.0|\n",
            "|[0.655316473,63.0...|               1|[63.6078908990063...|[0.63607890899006...|       0.0|\n",
            "|[1.953488372,38.0...|               1|[36.1944612525872...|[0.36194461252587...|       1.0|\n",
            "|[0.973339258,61.0...|               1|[15.8360227335975...|[0.15836022733597...|       1.0|\n",
            "|[1.048210842,58.0...|               1|[15.7015061757479...|[0.15701506175747...|       1.0|\n",
            "|[0.220823719,46.0...|               1|[49.5650999632898...|[0.49565099963289...|       1.0|\n",
            "|[0.03719769,47.0,...|               1|[81.8747535530082...|[0.81874753553008...|       0.0|\n",
            "|[0.880370887,43.0...|               1|[42.4844467007948...|[0.42484446700794...|       1.0|\n",
            "+--------------------+----------------+--------------------+--------------------+----------+\n",
            "only showing top 20 rows\n",
            "\n"
          ]
        }
      ]
    },
    {
      "cell_type": "code",
      "source": [
        "train_prediction = model.transform(selected_train)"
      ],
      "metadata": {
        "id": "8On1_TAkuoZl"
      },
      "execution_count": 48,
      "outputs": []
    },
    {
      "cell_type": "code",
      "source": [
        "def evaluate_model(predicts):\n",
        "    evaluators = BinaryClassificationEvaluator(labelCol=\"SeriousDlqin2yrs\", rawPredictionCol=\"prediction\",metricName=\"areaUnderROC\")\n",
        "    accuracy = evaluators.evaluate(predicts)\n",
        "\n",
        "    confusion_matrix = predicts.groupBy('SeriousDlqin2yrs', 'prediction').count()\n",
        "    confusion_matrix.show()\n",
        "\n",
        "    tp = confusion_matrix.filter((col('SeriousDlqin2yrs') == 1) & (col('prediction') == 1)).select('count').collect()[0][0]\n",
        "    fp = confusion_matrix.filter((col('SeriousDlqin2yrs') == 0) & (col('prediction') == 1)).select('count').collect()[0][0]\n",
        "    tn = confusion_matrix.filter((col('SeriousDlqin2yrs') == 0) & (col('prediction') == 0)).select('count').collect()[0][0]\n",
        "    fn = confusion_matrix.filter((col('SeriousDlqin2yrs') == 1) & (col('prediction') == 0)).select('count').collect()[0][0]\n",
        "\n",
        "    precision = tp / (tp + fp)\n",
        "    recall = tp / (tp + fn)\n",
        "    f1_score = 2 * (precision * recall) / (precision + recall)\n",
        "\n",
        "    print(f\"Accuracy: {accuracy}\")\n",
        "    print(f\"Precision: {precision}\")\n",
        "    print(f\"Recall: {recall}\")\n",
        "    print(f\"F1-Score: {f1_score}\")"
      ],
      "metadata": {
        "id": "BGNjMEfBgoZa"
      },
      "execution_count": 77,
      "outputs": []
    },
    {
      "cell_type": "code",
      "source": [
        "evaluate_model(predictions)"
      ],
      "metadata": {
        "colab": {
          "base_uri": "https://localhost:8080/"
        },
        "id": "PlpiMwS7g6d3",
        "outputId": "85f5106c-10bc-4c15-8992-80bc40ccc6eb"
      },
      "execution_count": 78,
      "outputs": [
        {
          "output_type": "stream",
          "name": "stdout",
          "text": [
            "+----------------+----------+-----+\n",
            "|SeriousDlqin2yrs|prediction|count|\n",
            "+----------------+----------+-----+\n",
            "|               1|       0.0| 1954|\n",
            "|               1|       1.0| 8072|\n",
            "|               0|       0.0| 7811|\n",
            "|               0|       1.0| 2282|\n",
            "+----------------+----------+-----+\n",
            "\n",
            "Accuracy: 0.7895047136831932\n",
            "Precision: 0.77960208615028\n",
            "Recall: 0.8051067225214442\n",
            "F1-Score: 0.7921491658488714\n"
          ]
        }
      ]
    },
    {
      "cell_type": "code",
      "source": [
        "evaluate_model(train_prediction)"
      ],
      "metadata": {
        "colab": {
          "base_uri": "https://localhost:8080/"
        },
        "id": "OHzg9rKGg8oj",
        "outputId": "3e367a09-f5bb-40cd-b0e3-4ced338b6b35"
      },
      "execution_count": 79,
      "outputs": [
        {
          "output_type": "stream",
          "name": "stdout",
          "text": [
            "+----------------+----------+-----+\n",
            "|SeriousDlqin2yrs|prediction|count|\n",
            "+----------------+----------+-----+\n",
            "|               1|       0.0| 1954|\n",
            "|               1|       1.0| 8072|\n",
            "|               0|       0.0| 7811|\n",
            "|               0|       1.0| 2282|\n",
            "+----------------+----------+-----+\n",
            "\n",
            "Accuracy: 0.7895047136831932\n",
            "Precision: 0.77960208615028\n",
            "Recall: 0.8051067225214442\n",
            "F1-Score: 0.7921491658488714\n"
          ]
        }
      ]
    },
    {
      "cell_type": "code",
      "source": [
        "paramGrid = ParamGridBuilder() \\\n",
        "    .addGrid(rf.numTrees, [50, 100]) \\\n",
        "    .addGrid(rf.maxDepth, [5, 10]) \\\n",
        "    .build()"
      ],
      "metadata": {
        "id": "Xo53sBZjhJ1n"
      },
      "execution_count": 53,
      "outputs": []
    },
    {
      "cell_type": "code",
      "source": [
        "evaluator = BinaryClassificationEvaluator(labelCol=\"SeriousDlqin2yrs\", rawPredictionCol=\"prediction\", metricName=\"areaUnderROC\")"
      ],
      "metadata": {
        "id": "VRaoAaL8lXLr"
      },
      "execution_count": 54,
      "outputs": []
    },
    {
      "cell_type": "code",
      "source": [
        "crossval = CrossValidator(estimator=rf,\n",
        "                          estimatorParamMaps=paramGrid,\n",
        "                          evaluator=evaluator,\n",
        "                          numFolds=10)"
      ],
      "metadata": {
        "id": "LRssDHFFla54"
      },
      "execution_count": 66,
      "outputs": []
    },
    {
      "cell_type": "code",
      "source": [
        "cvModel = crossval.fit(selected_train)"
      ],
      "metadata": {
        "id": "EBGQoeFGlgd1"
      },
      "execution_count": 67,
      "outputs": []
    },
    {
      "cell_type": "code",
      "source": [
        "trainCV_predictions = cvModel.transform(balanced_training_data)\n",
        "testCV_predictions = cvModel.transform(selected_test)"
      ],
      "metadata": {
        "id": "Ljvd-ARglkOu"
      },
      "execution_count": 68,
      "outputs": []
    },
    {
      "cell_type": "code",
      "source": [
        "print('Train data performance:')\n",
        "evaluate_model(trainCV_predictions)"
      ],
      "metadata": {
        "colab": {
          "base_uri": "https://localhost:8080/"
        },
        "id": "X_I9WwbCl6AP",
        "outputId": "435cbf64-a920-4241-c1a1-8bd044c134f8"
      },
      "execution_count": 75,
      "outputs": [
        {
          "output_type": "stream",
          "name": "stdout",
          "text": [
            "Train data performance:\n",
            "+----------------+----------+-----+\n",
            "|SeriousDlqin2yrs|prediction|count|\n",
            "+----------------+----------+-----+\n",
            "|               1|       0.0| 1893|\n",
            "|               1|       1.0| 8133|\n",
            "|               0|       0.0| 8236|\n",
            "|               0|       1.0| 1857|\n",
            "+----------------+----------+-----+\n",
            "\n",
            "Accuracy: 0.8136090262935534\n",
            "Precision: 0.8141141141141142\n",
            "Recall: 0.8111909036505087\n",
            "F1-Score: 0.8126498800959233\n"
          ]
        }
      ]
    },
    {
      "cell_type": "code",
      "source": [
        "print('Test data performance:')\n",
        "evaluate_model(testCV_predictions)\n"
      ],
      "metadata": {
        "colab": {
          "base_uri": "https://localhost:8080/"
        },
        "id": "VSKiMIVlmwmq",
        "outputId": "1b071a87-db81-46ad-bf9f-ba3973d1b081"
      },
      "execution_count": 76,
      "outputs": [
        {
          "output_type": "stream",
          "name": "stdout",
          "text": [
            "Test data performance:\n",
            "+----------------+----------+-----+\n",
            "|SeriousDlqin2yrs|prediction|count|\n",
            "+----------------+----------+-----+\n",
            "|               1|       0.0| 1893|\n",
            "|               1|       1.0| 8133|\n",
            "|               0|       0.0| 8236|\n",
            "|               0|       1.0| 1857|\n",
            "+----------------+----------+-----+\n",
            "\n",
            "Accuracy: 0.8136090262935534\n",
            "Precision: 0.8141141141141142\n",
            "Recall: 0.8111909036505087\n",
            "F1-Score: 0.8126498800959233\n"
          ]
        }
      ]
    },
    {
      "cell_type": "code",
      "source": [
        "bestModel = cvModel.bestModel\n",
        "print(\"Best Param (numTrees): \", bestModel.getOrDefault(\"numTrees\"))\n",
        "print(\"Best Param (maxDepth): \", bestModel.getOrDefault(\"maxDepth\"))"
      ],
      "metadata": {
        "colab": {
          "base_uri": "https://localhost:8080/"
        },
        "id": "SPgpnfqioJCs",
        "outputId": "4c77ff36-94b2-4ccd-ebcb-9f4a5327666b"
      },
      "execution_count": 71,
      "outputs": [
        {
          "output_type": "stream",
          "name": "stdout",
          "text": [
            "Best Param (numTrees):  50\n",
            "Best Param (maxDepth):  10\n"
          ]
        }
      ]
    }
  ]
}